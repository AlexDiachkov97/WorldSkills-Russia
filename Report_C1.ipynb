{
 "cells": [
  {
   "cell_type": "markdown",
   "id": "dd4b729d",
   "metadata": {},
   "source": [
    "# 1.1 Подготовка обучающей выборки"
   ]
  },
  {
   "cell_type": "markdown",
   "id": "d64192e2",
   "metadata": {},
   "source": [
    "Загрузка необходимых библиотек"
   ]
  },
  {
   "cell_type": "code",
   "execution_count": 36,
   "id": "0b4e08a3",
   "metadata": {},
   "outputs": [],
   "source": [
    "import pandas as pd\n",
    "import numpy as np"
   ]
  },
  {
   "cell_type": "markdown",
   "id": "d5cc2241",
   "metadata": {},
   "source": [
    "Загрузка и объединение данных, удаляем дубликаты так как id поездок не может быть одинаковым"
   ]
  },
  {
   "cell_type": "code",
   "execution_count": 37,
   "id": "57a40bfd",
   "metadata": {},
   "outputs": [],
   "source": [
    "train_1 = pd.read_excel('train_first_part.xlsx')\n",
    "train_2 = pd.read_json('train_second_part.json')"
   ]
  },
  {
   "cell_type": "code",
   "execution_count": 38,
   "id": "ba7220df",
   "metadata": {},
   "outputs": [
    {
     "name": "stdout",
     "output_type": "stream",
     "text": [
      "<class 'pandas.core.frame.DataFrame'>\n",
      "Int64Index: 102721 entries, 0 to 2998\n",
      "Data columns (total 11 columns):\n",
      " #   Column              Non-Null Count   Dtype  \n",
      "---  ------              --------------   -----  \n",
      " 0   id                  102721 non-null  object \n",
      " 1   vendor_id           102721 non-null  int64  \n",
      " 2   pickup_datetime     102721 non-null  object \n",
      " 3   dropoff_datetime    102721 non-null  object \n",
      " 4   passenger_count     102721 non-null  int64  \n",
      " 5   pickup_longitude    102721 non-null  float64\n",
      " 6   pickup_latitude     102721 non-null  float64\n",
      " 7   dropoff_longitude   102721 non-null  float64\n",
      " 8   dropoff_latitude    102721 non-null  float64\n",
      " 9   store_and_fwd_flag  102721 non-null  object \n",
      " 10  trip_duration       102721 non-null  int64  \n",
      "dtypes: float64(4), int64(3), object(4)\n",
      "memory usage: 9.4+ MB\n"
     ]
    }
   ],
   "source": [
    "train_df = train_1.append(train_2)\n",
    "train_df.drop_duplicates(subset = 'id', inplace = True)\n",
    "train_df.info()"
   ]
  },
  {
   "cell_type": "markdown",
   "id": "cf479b8b",
   "metadata": {},
   "source": [
    "Удаление неинформативных признаков"
   ]
  },
  {
   "cell_type": "code",
   "execution_count": 39,
   "id": "7e323f9b",
   "metadata": {},
   "outputs": [],
   "source": [
    "train_df.drop('vendor_id', axis = 1, inplace = True)\n",
    "train_df.drop('store_and_fwd_flag', axis = 1, inplace = True)\n",
    "train_df.drop('id', axis = 1, inplace = True)"
   ]
  },
  {
   "cell_type": "markdown",
   "id": "60250316",
   "metadata": {},
   "source": [
    "# 1.2 Форматирование - приведение данных к приемлемому формату"
   ]
  },
  {
   "cell_type": "markdown",
   "id": "096b4774",
   "metadata": {},
   "source": [
    "Приводим столбцы с датой и временем в нужный формат. Выделение только даты для последующего обьединения с погодой"
   ]
  },
  {
   "cell_type": "code",
   "execution_count": 40,
   "id": "656e7e2a",
   "metadata": {},
   "outputs": [
    {
     "name": "stdout",
     "output_type": "stream",
     "text": [
      "<class 'pandas.core.frame.DataFrame'>\n",
      "Int64Index: 102721 entries, 0 to 2998\n",
      "Data columns (total 9 columns):\n",
      " #   Column             Non-Null Count   Dtype         \n",
      "---  ------             --------------   -----         \n",
      " 0   pickup_datetime    102721 non-null  datetime64[ns]\n",
      " 1   dropoff_datetime   102721 non-null  datetime64[ns]\n",
      " 2   passenger_count    102721 non-null  int64         \n",
      " 3   pickup_longitude   102721 non-null  float64       \n",
      " 4   pickup_latitude    102721 non-null  float64       \n",
      " 5   dropoff_longitude  102721 non-null  float64       \n",
      " 6   dropoff_latitude   102721 non-null  float64       \n",
      " 7   trip_duration      102721 non-null  int64         \n",
      " 8   date               102721 non-null  datetime64[ns]\n",
      "dtypes: datetime64[ns](3), float64(4), int64(2)\n",
      "memory usage: 7.8 MB\n"
     ]
    }
   ],
   "source": [
    "train_df['pickup_datetime'] = pd.to_datetime(train_df['pickup_datetime'])\n",
    "train_df['dropoff_datetime'] = pd.to_datetime(train_df['dropoff_datetime'])\n",
    "train_df['date'] = train_df['dropoff_datetime'].dt.date\n",
    "train_df['date'] = pd.to_datetime(train_df['date'])\n",
    "train_df.info()"
   ]
  },
  {
   "cell_type": "markdown",
   "id": "ac8e9fca",
   "metadata": {},
   "source": [
    "Удаление длин поездок которые являются выбросами с помощью quantile."
   ]
  },
  {
   "cell_type": "code",
   "execution_count": 41,
   "id": "6db06d8c",
   "metadata": {},
   "outputs": [
    {
     "data": {
      "text/plain": [
       "<AxesSubplot:>"
      ]
     },
     "execution_count": 41,
     "metadata": {},
     "output_type": "execute_result"
    },
    {
     "data": {
      "image/png": "[encoded data removed]",
      "text/plain": [
       "<Figure size 432x288 with 1 Axes>"
      ]
     },
     "metadata": {
      "needs_background": "light"
     },
     "output_type": "display_data"
    }
   ],
   "source": [
    "Q1 =  train_df['trip_duration'].quantile(0.1)\n",
    "Q3 = train_df['trip_duration'].quantile(0.9)\n",
    "train_df = train_df[(train_df['trip_duration'] > Q1) & (train_df['trip_duration'] < Q3)]\n",
    "train_df.boxplot(column=\"trip_duration\")"
   ]
  },
  {
   "cell_type": "markdown",
   "id": "f2bebb33",
   "metadata": {},
   "source": [
    "Так же есть поездки с 0 пассажирами, так же удалим так как их количество не значительное."
   ]
  },
  {
   "cell_type": "code",
   "execution_count": 42,
   "id": "d37264b8",
   "metadata": {},
   "outputs": [
    {
     "data": {
      "text/plain": [
       "1    58047\n",
       "2    11847\n",
       "5     4570\n",
       "3     3323\n",
       "6     2686\n",
       "4     1628\n",
       "Name: passenger_count, dtype: int64"
      ]
     },
     "execution_count": 42,
     "metadata": {},
     "output_type": "execute_result"
    }
   ],
   "source": [
    "train_df.passenger_count.value_counts()\n",
    "train_df=train_df[train_df.passenger_count!=0]\n",
    "train_df.passenger_count.value_counts()"
   ]
  },
  {
   "cell_type": "markdown",
   "id": "bee0f1fd",
   "metadata": {},
   "source": [
    "# 1.3 Дополнение набора данных"
   ]
  },
  {
   "cell_type": "markdown",
   "id": "29b49e85",
   "metadata": {},
   "source": [
    "Загрузка данных о погоде, преобразование столбца с датой в формут datetime, для обединения с train_df."
   ]
  },
  {
   "cell_type": "code",
   "execution_count": 43,
   "id": "93172be6",
   "metadata": {},
   "outputs": [],
   "source": [
    "weather_df = pd.read_csv('weather.csv')\n",
    "weather_df['date'] = pd.to_datetime(weather_df['date'])\n",
    "df = pd.merge(train_df, weather_df, on = 'date')"
   ]
  },
  {
   "cell_type": "markdown",
   "id": "fc7dcc9c",
   "metadata": {},
   "source": [
    "Далее мы можем удалить этот столбец с датой, так как у нас уже есть такой, только со времением."
   ]
  },
  {
   "cell_type": "code",
   "execution_count": 45,
   "id": "0954bbae",
   "metadata": {},
   "outputs": [],
   "source": [
    "df.drop('date', axis = 1, inplace = True)"
   ]
  },
  {
   "cell_type": "markdown",
   "id": "7797f606",
   "metadata": {},
   "source": [
    "Переведем значения градусов из фаренгейта в цельсии, для удобства."
   ]
  },
  {
   "cell_type": "code",
   "execution_count": 46,
   "id": "45144cb1",
   "metadata": {},
   "outputs": [],
   "source": [
    "df['maximum temperature C']=(5*(df['maximum temperature']-32)/9).round()\n",
    "df['minimum temperature C']=(5*(df['minimum temperature']-32)/9).round()\n",
    "df['average temperature C']=(5*(df['average temperature']-32)/9).round()"
   ]
  },
  {
   "cell_type": "markdown",
   "id": "fd92cf1d",
   "metadata": {},
   "source": [
    "Проверяем температуру на выбросы."
   ]
  },
  {
   "cell_type": "code",
   "execution_count": 47,
   "id": "dce5a13a",
   "metadata": {},
   "outputs": [
    {
     "data": {
      "text/plain": [
       "<AxesSubplot:>"
      ]
     },
     "execution_count": 47,
     "metadata": {},
     "output_type": "execute_result"
    },
    {
     "data": {
      "image/png": "[encoded data removed]",
      "text/plain": [
       "<Figure size 432x288 with 1 Axes>"
      ]
     },
     "metadata": {
      "needs_background": "light"
     },
     "output_type": "display_data"
    }
   ],
   "source": [
    "df.boxplot(column=\"maximum temperature C\")"
   ]
  },
  {
   "cell_type": "code",
   "execution_count": 48,
   "id": "29590568",
   "metadata": {},
   "outputs": [
    {
     "data": {
      "text/plain": [
       "<AxesSubplot:>"
      ]
     },
     "execution_count": 48,
     "metadata": {},
     "output_type": "execute_result"
    },
    {
     "data": {
      "image/png": "[encoded data removed]",
      "text/plain": [
       "<Figure size 432x288 with 1 Axes>"
      ]
     },
     "metadata": {
      "needs_background": "light"
     },
     "output_type": "display_data"
    }
   ],
   "source": [
    "df.boxplot(column=\"minimum temperature C\")"
   ]
  },
  {
   "cell_type": "code",
   "execution_count": 56,
   "id": "ba1ff28c",
   "metadata": {},
   "outputs": [
    {
     "data": {
      "text/plain": [
       "<AxesSubplot:>"
      ]
     },
     "execution_count": 56,
     "metadata": {},
     "output_type": "execute_result"
    },
    {
     "data": {
      "image/png": "[encoded data removed]",
      "text/plain": [
       "<Figure size 432x288 with 1 Axes>"
      ]
     },
     "metadata": {
      "needs_background": "light"
     },
     "output_type": "display_data"
    }
   ],
   "source": [
    "df.boxplot(column=\"average temperature C\")"
   ]
  },
  {
   "cell_type": "markdown",
   "id": "947fdd9a",
   "metadata": {},
   "source": [
    "# 1.4 Подготовка отчета"
   ]
  },
  {
   "cell_type": "code",
   "execution_count": 59,
   "id": "a61d6fae",
   "metadata": {},
   "outputs": [],
   "source": [
    "df.to_csv('Report_C1.csv')"
   ]
  },
  {
   "cell_type": "code",
   "execution_count": null,
   "id": "6586a3ec",
   "metadata": {},
   "outputs": [],
   "source": []
  }
 ],
 "metadata": {
  "kernelspec": {
   "display_name": "Python 3",
   "language": "python",
   "name": "python3"
  },
  "language_info": {
   "codemirror_mode": {
    "name": "ipython",
    "version": 3
   },
   "file_extension": ".py",
   "mimetype": "text/x-python",
   "name": "python",
   "nbconvert_exporter": "python",
   "pygments_lexer": "ipython3",
   "version": "3.8.8"
  }
 },
 "nbformat": 4,
 "nbformat_minor": 5
}
